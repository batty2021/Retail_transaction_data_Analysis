{
 "cells": [
  {
   "cell_type": "code",
   "execution_count": 27,
   "id": "b27a70a5",
   "metadata": {},
   "outputs": [],
   "source": [
    "# import Dependencies\n",
    "import pandas as pd\n",
    "import matplotlib.pyplot as plt\n",
    "%matplotlib inline\n",
    "import numpy as np"
   ]
  },
  {
   "cell_type": "code",
   "execution_count": 50,
   "id": "45e100bd",
   "metadata": {},
   "outputs": [],
   "source": [
    "# Files to load\n",
    "sample_data_to_load = \"data_analysis_challenge_data.csv\"\n"
   ]
  },
  {
   "cell_type": "code",
   "execution_count": 4,
   "id": "ffe1147e",
   "metadata": {
    "scrolled": false
   },
   "outputs": [
    {
     "data": {
      "text/html": [
       "<div>\n",
       "<style scoped>\n",
       "    .dataframe tbody tr th:only-of-type {\n",
       "        vertical-align: middle;\n",
       "    }\n",
       "\n",
       "    .dataframe tbody tr th {\n",
       "        vertical-align: top;\n",
       "    }\n",
       "\n",
       "    .dataframe thead th {\n",
       "        text-align: right;\n",
       "    }\n",
       "</style>\n",
       "<table border=\"1\" class=\"dataframe\">\n",
       "  <thead>\n",
       "    <tr style=\"text-align: right;\">\n",
       "      <th></th>\n",
       "      <th>MONTH</th>\n",
       "      <th>STORECODE</th>\n",
       "      <th>DAY</th>\n",
       "      <th>BILL_ID</th>\n",
       "      <th>BILL_AMT</th>\n",
       "      <th>QTY</th>\n",
       "      <th>VALUE</th>\n",
       "      <th>PRICE</th>\n",
       "      <th>GRP</th>\n",
       "    </tr>\n",
       "  </thead>\n",
       "  <tbody>\n",
       "    <tr>\n",
       "      <th>0</th>\n",
       "      <td>M1</td>\n",
       "      <td>N1</td>\n",
       "      <td>4</td>\n",
       "      <td>T375</td>\n",
       "      <td>225.0</td>\n",
       "      <td>1.0</td>\n",
       "      <td>225.0</td>\n",
       "      <td>225.0</td>\n",
       "      <td>BUTTER MARGR  (4/94)</td>\n",
       "    </tr>\n",
       "    <tr>\n",
       "      <th>1</th>\n",
       "      <td>M1</td>\n",
       "      <td>N1</td>\n",
       "      <td>4</td>\n",
       "      <td>T379</td>\n",
       "      <td>95.0</td>\n",
       "      <td>1.0</td>\n",
       "      <td>95.0</td>\n",
       "      <td>95.0</td>\n",
       "      <td>CONFECTIONERY - ECLAIRS</td>\n",
       "    </tr>\n",
       "    <tr>\n",
       "      <th>2</th>\n",
       "      <td>M1</td>\n",
       "      <td>N1</td>\n",
       "      <td>4</td>\n",
       "      <td>T381</td>\n",
       "      <td>10.0</td>\n",
       "      <td>1.0</td>\n",
       "      <td>10.0</td>\n",
       "      <td>10.0</td>\n",
       "      <td>CHOCOLATE</td>\n",
       "    </tr>\n",
       "    <tr>\n",
       "      <th>3</th>\n",
       "      <td>M1</td>\n",
       "      <td>N1</td>\n",
       "      <td>4</td>\n",
       "      <td>T382</td>\n",
       "      <td>108.0</td>\n",
       "      <td>1.0</td>\n",
       "      <td>108.0</td>\n",
       "      <td>108.0</td>\n",
       "      <td>PACKAGED TEA</td>\n",
       "    </tr>\n",
       "    <tr>\n",
       "      <th>4</th>\n",
       "      <td>M1</td>\n",
       "      <td>N1</td>\n",
       "      <td>4</td>\n",
       "      <td>T384</td>\n",
       "      <td>19.0</td>\n",
       "      <td>1.0</td>\n",
       "      <td>19.0</td>\n",
       "      <td>19.0</td>\n",
       "      <td>ALL IODISED SALT</td>\n",
       "    </tr>\n",
       "    <tr>\n",
       "      <th>5</th>\n",
       "      <td>M1</td>\n",
       "      <td>N1</td>\n",
       "      <td>4</td>\n",
       "      <td>T385</td>\n",
       "      <td>109.0</td>\n",
       "      <td>1.0</td>\n",
       "      <td>10.0</td>\n",
       "      <td>10.0</td>\n",
       "      <td>CHOCOLATE</td>\n",
       "    </tr>\n",
       "    <tr>\n",
       "      <th>6</th>\n",
       "      <td>M1</td>\n",
       "      <td>N1</td>\n",
       "      <td>4</td>\n",
       "      <td>T385</td>\n",
       "      <td>109.0</td>\n",
       "      <td>1.0</td>\n",
       "      <td>99.0</td>\n",
       "      <td>99.0</td>\n",
       "      <td>READY TO EAT</td>\n",
       "    </tr>\n",
       "    <tr>\n",
       "      <th>7</th>\n",
       "      <td>M1</td>\n",
       "      <td>N1</td>\n",
       "      <td>4</td>\n",
       "      <td>T386</td>\n",
       "      <td>25.0</td>\n",
       "      <td>1.0</td>\n",
       "      <td>5.0</td>\n",
       "      <td>5.0</td>\n",
       "      <td>CHOCOLATE</td>\n",
       "    </tr>\n",
       "    <tr>\n",
       "      <th>8</th>\n",
       "      <td>M1</td>\n",
       "      <td>N1</td>\n",
       "      <td>4</td>\n",
       "      <td>T386</td>\n",
       "      <td>25.0</td>\n",
       "      <td>1.0</td>\n",
       "      <td>10.0</td>\n",
       "      <td>10.0</td>\n",
       "      <td>SALTY SNACKS (2/97)</td>\n",
       "    </tr>\n",
       "    <tr>\n",
       "      <th>9</th>\n",
       "      <td>M1</td>\n",
       "      <td>N1</td>\n",
       "      <td>4</td>\n",
       "      <td>T386</td>\n",
       "      <td>25.0</td>\n",
       "      <td>1.0</td>\n",
       "      <td>10.0</td>\n",
       "      <td>10.0</td>\n",
       "      <td>SALTY SNACKS (2/97)</td>\n",
       "    </tr>\n",
       "  </tbody>\n",
       "</table>\n",
       "</div>"
      ],
      "text/plain": [
       "  MONTH STORECODE  DAY BILL_ID  BILL_AMT  QTY  VALUE  PRICE  \\\n",
       "0    M1        N1    4    T375     225.0  1.0  225.0  225.0   \n",
       "1    M1        N1    4    T379      95.0  1.0   95.0   95.0   \n",
       "2    M1        N1    4    T381      10.0  1.0   10.0   10.0   \n",
       "3    M1        N1    4    T382     108.0  1.0  108.0  108.0   \n",
       "4    M1        N1    4    T384      19.0  1.0   19.0   19.0   \n",
       "5    M1        N1    4    T385     109.0  1.0   10.0   10.0   \n",
       "6    M1        N1    4    T385     109.0  1.0   99.0   99.0   \n",
       "7    M1        N1    4    T386      25.0  1.0    5.0    5.0   \n",
       "8    M1        N1    4    T386      25.0  1.0   10.0   10.0   \n",
       "9    M1        N1    4    T386      25.0  1.0   10.0   10.0   \n",
       "\n",
       "                       GRP  \n",
       "0     BUTTER MARGR  (4/94)  \n",
       "1  CONFECTIONERY - ECLAIRS  \n",
       "2                CHOCOLATE  \n",
       "3             PACKAGED TEA  \n",
       "4         ALL IODISED SALT  \n",
       "5                CHOCOLATE  \n",
       "6             READY TO EAT  \n",
       "7                CHOCOLATE  \n",
       "8      SALTY SNACKS (2/97)  \n",
       "9      SALTY SNACKS (2/97)  "
      ]
     },
     "execution_count": 4,
     "metadata": {},
     "output_type": "execute_result"
    }
   ],
   "source": [
    "# Read the sample data file and store it in a pandas DataFrame.\n",
    "sample_data_df = pd.read_csv(sample_data_to_load)\n",
    "sample_data_df.head(10)"
   ]
  },
  {
   "cell_type": "code",
   "execution_count": 5,
   "id": "73df3dd4",
   "metadata": {},
   "outputs": [
    {
     "data": {
      "text/html": [
       "<div>\n",
       "<style scoped>\n",
       "    .dataframe tbody tr th:only-of-type {\n",
       "        vertical-align: middle;\n",
       "    }\n",
       "\n",
       "    .dataframe tbody tr th {\n",
       "        vertical-align: top;\n",
       "    }\n",
       "\n",
       "    .dataframe thead th {\n",
       "        text-align: right;\n",
       "    }\n",
       "</style>\n",
       "<table border=\"1\" class=\"dataframe\">\n",
       "  <thead>\n",
       "    <tr style=\"text-align: right;\">\n",
       "      <th></th>\n",
       "      <th>MONTH</th>\n",
       "      <th>STORECODE</th>\n",
       "      <th>DAY</th>\n",
       "      <th>BILL_ID</th>\n",
       "      <th>BILL_AMT</th>\n",
       "      <th>QTY</th>\n",
       "      <th>VALUE</th>\n",
       "      <th>PRICE</th>\n",
       "      <th>GRP</th>\n",
       "    </tr>\n",
       "  </thead>\n",
       "  <tbody>\n",
       "    <tr>\n",
       "      <th>26975</th>\n",
       "      <td>M3</td>\n",
       "      <td>N10</td>\n",
       "      <td>30</td>\n",
       "      <td>T5978</td>\n",
       "      <td>30.0</td>\n",
       "      <td>2.0</td>\n",
       "      <td>20.0</td>\n",
       "      <td>10.0</td>\n",
       "      <td>BREAKFAST CEREALS</td>\n",
       "    </tr>\n",
       "    <tr>\n",
       "      <th>26976</th>\n",
       "      <td>M3</td>\n",
       "      <td>N10</td>\n",
       "      <td>30</td>\n",
       "      <td>T5978</td>\n",
       "      <td>30.0</td>\n",
       "      <td>1.0</td>\n",
       "      <td>5.0</td>\n",
       "      <td>5.0</td>\n",
       "      <td>BISCUITS - CORE &amp; NON CORE</td>\n",
       "    </tr>\n",
       "    <tr>\n",
       "      <th>26977</th>\n",
       "      <td>M3</td>\n",
       "      <td>N10</td>\n",
       "      <td>30</td>\n",
       "      <td>T5986</td>\n",
       "      <td>39.0</td>\n",
       "      <td>1.0</td>\n",
       "      <td>39.0</td>\n",
       "      <td>39.0</td>\n",
       "      <td>COCONUT OIL PKTYP (08/02)</td>\n",
       "    </tr>\n",
       "    <tr>\n",
       "      <th>26978</th>\n",
       "      <td>M3</td>\n",
       "      <td>N10</td>\n",
       "      <td>30</td>\n",
       "      <td>T5993</td>\n",
       "      <td>40.0</td>\n",
       "      <td>4.0</td>\n",
       "      <td>40.0</td>\n",
       "      <td>10.0</td>\n",
       "      <td>CHOCOLATE</td>\n",
       "    </tr>\n",
       "    <tr>\n",
       "      <th>26979</th>\n",
       "      <td>M3</td>\n",
       "      <td>N10</td>\n",
       "      <td>30</td>\n",
       "      <td>T5995</td>\n",
       "      <td>35.0</td>\n",
       "      <td>1.0</td>\n",
       "      <td>35.0</td>\n",
       "      <td>35.0</td>\n",
       "      <td>PACKAGED ATTA (1/95)</td>\n",
       "    </tr>\n",
       "    <tr>\n",
       "      <th>26980</th>\n",
       "      <td>M3</td>\n",
       "      <td>N10</td>\n",
       "      <td>31</td>\n",
       "      <td>T5999</td>\n",
       "      <td>10.0</td>\n",
       "      <td>1.0</td>\n",
       "      <td>10.0</td>\n",
       "      <td>10.0</td>\n",
       "      <td>BISCUITS - CORE &amp; NON CORE</td>\n",
       "    </tr>\n",
       "    <tr>\n",
       "      <th>26981</th>\n",
       "      <td>M3</td>\n",
       "      <td>N10</td>\n",
       "      <td>31</td>\n",
       "      <td>T6007</td>\n",
       "      <td>88.0</td>\n",
       "      <td>1.0</td>\n",
       "      <td>10.0</td>\n",
       "      <td>10.0</td>\n",
       "      <td>BISCUITS - CORE &amp; NON CORE</td>\n",
       "    </tr>\n",
       "    <tr>\n",
       "      <th>26982</th>\n",
       "      <td>M3</td>\n",
       "      <td>N10</td>\n",
       "      <td>31</td>\n",
       "      <td>T6007</td>\n",
       "      <td>88.0</td>\n",
       "      <td>2.0</td>\n",
       "      <td>20.0</td>\n",
       "      <td>10.0</td>\n",
       "      <td>BISCUITS - CORE &amp; NON CORE</td>\n",
       "    </tr>\n",
       "    <tr>\n",
       "      <th>26983</th>\n",
       "      <td>M3</td>\n",
       "      <td>N10</td>\n",
       "      <td>31</td>\n",
       "      <td>T6007</td>\n",
       "      <td>88.0</td>\n",
       "      <td>1.0</td>\n",
       "      <td>58.0</td>\n",
       "      <td>58.0</td>\n",
       "      <td>CLEANERS - GLASS</td>\n",
       "    </tr>\n",
       "    <tr>\n",
       "      <th>26984</th>\n",
       "      <td>M3</td>\n",
       "      <td>N10</td>\n",
       "      <td>31</td>\n",
       "      <td>T6013</td>\n",
       "      <td>15.0</td>\n",
       "      <td>1.0</td>\n",
       "      <td>15.0</td>\n",
       "      <td>15.0</td>\n",
       "      <td>BISCUITS - CORE &amp; NON CORE</td>\n",
       "    </tr>\n",
       "  </tbody>\n",
       "</table>\n",
       "</div>"
      ],
      "text/plain": [
       "      MONTH STORECODE  DAY BILL_ID  BILL_AMT  QTY  VALUE  PRICE  \\\n",
       "26975    M3       N10   30   T5978      30.0  2.0   20.0   10.0   \n",
       "26976    M3       N10   30   T5978      30.0  1.0    5.0    5.0   \n",
       "26977    M3       N10   30   T5986      39.0  1.0   39.0   39.0   \n",
       "26978    M3       N10   30   T5993      40.0  4.0   40.0   10.0   \n",
       "26979    M3       N10   30   T5995      35.0  1.0   35.0   35.0   \n",
       "26980    M3       N10   31   T5999      10.0  1.0   10.0   10.0   \n",
       "26981    M3       N10   31   T6007      88.0  1.0   10.0   10.0   \n",
       "26982    M3       N10   31   T6007      88.0  2.0   20.0   10.0   \n",
       "26983    M3       N10   31   T6007      88.0  1.0   58.0   58.0   \n",
       "26984    M3       N10   31   T6013      15.0  1.0   15.0   15.0   \n",
       "\n",
       "                              GRP  \n",
       "26975           BREAKFAST CEREALS  \n",
       "26976  BISCUITS - CORE & NON CORE  \n",
       "26977   COCONUT OIL PKTYP (08/02)  \n",
       "26978                   CHOCOLATE  \n",
       "26979        PACKAGED ATTA (1/95)  \n",
       "26980  BISCUITS - CORE & NON CORE  \n",
       "26981  BISCUITS - CORE & NON CORE  \n",
       "26982  BISCUITS - CORE & NON CORE  \n",
       "26983            CLEANERS - GLASS  \n",
       "26984  BISCUITS - CORE & NON CORE  "
      ]
     },
     "execution_count": 5,
     "metadata": {},
     "output_type": "execute_result"
    }
   ],
   "source": [
    "# Read the sample data file and store it in a pandas DataFrame.\n",
    "sample_data_df = pd.read_csv(sample_data_to_load)\n",
    "sample_data_df.tail(10)"
   ]
  },
  {
   "cell_type": "code",
   "execution_count": 6,
   "id": "62a35a21",
   "metadata": {},
   "outputs": [
    {
     "data": {
      "text/plain": [
       "MONTH        26985\n",
       "STORECODE    26985\n",
       "DAY          26985\n",
       "BILL_ID      26985\n",
       "BILL_AMT     26985\n",
       "QTY          26985\n",
       "VALUE        26985\n",
       "PRICE        26985\n",
       "GRP          26985\n",
       "dtype: int64"
      ]
     },
     "execution_count": 6,
     "metadata": {},
     "output_type": "execute_result"
    }
   ],
   "source": [
    "# Determine if there are any missing values in the sample data.\n",
    "sample_data_df.count()"
   ]
  },
  {
   "cell_type": "code",
   "execution_count": 7,
   "id": "67f9b45b",
   "metadata": {},
   "outputs": [
    {
     "data": {
      "text/plain": [
       "MONTH         object\n",
       "STORECODE     object\n",
       "DAY            int64\n",
       "BILL_ID       object\n",
       "BILL_AMT     float64\n",
       "QTY          float64\n",
       "VALUE        float64\n",
       "PRICE        float64\n",
       "GRP           object\n",
       "dtype: object"
      ]
     },
     "execution_count": 7,
     "metadata": {},
     "output_type": "execute_result"
    }
   ],
   "source": [
    "# Get the data types of each column.\n",
    "sample_data_df.dtypes"
   ]
  },
  {
   "cell_type": "code",
   "execution_count": 8,
   "id": "d8a20a90",
   "metadata": {
    "scrolled": true
   },
   "outputs": [
    {
     "data": {
      "text/plain": [
       "MONTH        26985\n",
       "STORECODE    26985\n",
       "DAY          26985\n",
       "BILL_ID      26985\n",
       "BILL_AMT     26985\n",
       "QTY          26985\n",
       "VALUE        26985\n",
       "PRICE        26985\n",
       "GRP          26985\n",
       "dtype: int64"
      ]
     },
     "execution_count": 8,
     "metadata": {},
     "output_type": "execute_result"
    }
   ],
   "source": [
    "# Get the columns and the rows that are not null.\n",
    "sample_data_df.count()"
   ]
  },
  {
   "cell_type": "code",
   "execution_count": 9,
   "id": "554d6e5b",
   "metadata": {},
   "outputs": [
    {
     "data": {
      "text/html": [
       "<div>\n",
       "<style scoped>\n",
       "    .dataframe tbody tr th:only-of-type {\n",
       "        vertical-align: middle;\n",
       "    }\n",
       "\n",
       "    .dataframe tbody tr th {\n",
       "        vertical-align: top;\n",
       "    }\n",
       "\n",
       "    .dataframe thead th {\n",
       "        text-align: right;\n",
       "    }\n",
       "</style>\n",
       "<table border=\"1\" class=\"dataframe\">\n",
       "  <thead>\n",
       "    <tr style=\"text-align: right;\">\n",
       "      <th></th>\n",
       "      <th>MONTH</th>\n",
       "      <th>STORECODE</th>\n",
       "      <th>DAY</th>\n",
       "      <th>BILL_ID</th>\n",
       "      <th>BILL_AMT</th>\n",
       "      <th>QTY</th>\n",
       "      <th>VALUE</th>\n",
       "      <th>PRICE</th>\n",
       "      <th>GRP</th>\n",
       "    </tr>\n",
       "  </thead>\n",
       "  <tbody>\n",
       "    <tr>\n",
       "      <th>0</th>\n",
       "      <td>False</td>\n",
       "      <td>False</td>\n",
       "      <td>False</td>\n",
       "      <td>False</td>\n",
       "      <td>False</td>\n",
       "      <td>False</td>\n",
       "      <td>False</td>\n",
       "      <td>False</td>\n",
       "      <td>False</td>\n",
       "    </tr>\n",
       "    <tr>\n",
       "      <th>1</th>\n",
       "      <td>False</td>\n",
       "      <td>False</td>\n",
       "      <td>False</td>\n",
       "      <td>False</td>\n",
       "      <td>False</td>\n",
       "      <td>False</td>\n",
       "      <td>False</td>\n",
       "      <td>False</td>\n",
       "      <td>False</td>\n",
       "    </tr>\n",
       "    <tr>\n",
       "      <th>2</th>\n",
       "      <td>False</td>\n",
       "      <td>False</td>\n",
       "      <td>False</td>\n",
       "      <td>False</td>\n",
       "      <td>False</td>\n",
       "      <td>False</td>\n",
       "      <td>False</td>\n",
       "      <td>False</td>\n",
       "      <td>False</td>\n",
       "    </tr>\n",
       "    <tr>\n",
       "      <th>3</th>\n",
       "      <td>False</td>\n",
       "      <td>False</td>\n",
       "      <td>False</td>\n",
       "      <td>False</td>\n",
       "      <td>False</td>\n",
       "      <td>False</td>\n",
       "      <td>False</td>\n",
       "      <td>False</td>\n",
       "      <td>False</td>\n",
       "    </tr>\n",
       "    <tr>\n",
       "      <th>4</th>\n",
       "      <td>False</td>\n",
       "      <td>False</td>\n",
       "      <td>False</td>\n",
       "      <td>False</td>\n",
       "      <td>False</td>\n",
       "      <td>False</td>\n",
       "      <td>False</td>\n",
       "      <td>False</td>\n",
       "      <td>False</td>\n",
       "    </tr>\n",
       "    <tr>\n",
       "      <th>...</th>\n",
       "      <td>...</td>\n",
       "      <td>...</td>\n",
       "      <td>...</td>\n",
       "      <td>...</td>\n",
       "      <td>...</td>\n",
       "      <td>...</td>\n",
       "      <td>...</td>\n",
       "      <td>...</td>\n",
       "      <td>...</td>\n",
       "    </tr>\n",
       "    <tr>\n",
       "      <th>26980</th>\n",
       "      <td>False</td>\n",
       "      <td>False</td>\n",
       "      <td>False</td>\n",
       "      <td>False</td>\n",
       "      <td>False</td>\n",
       "      <td>False</td>\n",
       "      <td>False</td>\n",
       "      <td>False</td>\n",
       "      <td>False</td>\n",
       "    </tr>\n",
       "    <tr>\n",
       "      <th>26981</th>\n",
       "      <td>False</td>\n",
       "      <td>False</td>\n",
       "      <td>False</td>\n",
       "      <td>False</td>\n",
       "      <td>False</td>\n",
       "      <td>False</td>\n",
       "      <td>False</td>\n",
       "      <td>False</td>\n",
       "      <td>False</td>\n",
       "    </tr>\n",
       "    <tr>\n",
       "      <th>26982</th>\n",
       "      <td>False</td>\n",
       "      <td>False</td>\n",
       "      <td>False</td>\n",
       "      <td>False</td>\n",
       "      <td>False</td>\n",
       "      <td>False</td>\n",
       "      <td>False</td>\n",
       "      <td>False</td>\n",
       "      <td>False</td>\n",
       "    </tr>\n",
       "    <tr>\n",
       "      <th>26983</th>\n",
       "      <td>False</td>\n",
       "      <td>False</td>\n",
       "      <td>False</td>\n",
       "      <td>False</td>\n",
       "      <td>False</td>\n",
       "      <td>False</td>\n",
       "      <td>False</td>\n",
       "      <td>False</td>\n",
       "      <td>False</td>\n",
       "    </tr>\n",
       "    <tr>\n",
       "      <th>26984</th>\n",
       "      <td>False</td>\n",
       "      <td>False</td>\n",
       "      <td>False</td>\n",
       "      <td>False</td>\n",
       "      <td>False</td>\n",
       "      <td>False</td>\n",
       "      <td>False</td>\n",
       "      <td>False</td>\n",
       "      <td>False</td>\n",
       "    </tr>\n",
       "  </tbody>\n",
       "</table>\n",
       "<p>26985 rows × 9 columns</p>\n",
       "</div>"
      ],
      "text/plain": [
       "       MONTH  STORECODE    DAY  BILL_ID  BILL_AMT    QTY  VALUE  PRICE    GRP\n",
       "0      False      False  False    False     False  False  False  False  False\n",
       "1      False      False  False    False     False  False  False  False  False\n",
       "2      False      False  False    False     False  False  False  False  False\n",
       "3      False      False  False    False     False  False  False  False  False\n",
       "4      False      False  False    False     False  False  False  False  False\n",
       "...      ...        ...    ...      ...       ...    ...    ...    ...    ...\n",
       "26980  False      False  False    False     False  False  False  False  False\n",
       "26981  False      False  False    False     False  False  False  False  False\n",
       "26982  False      False  False    False     False  False  False  False  False\n",
       "26983  False      False  False    False     False  False  False  False  False\n",
       "26984  False      False  False    False     False  False  False  False  False\n",
       "\n",
       "[26985 rows x 9 columns]"
      ]
     },
     "execution_count": 9,
     "metadata": {},
     "output_type": "execute_result"
    }
   ],
   "source": [
    "# Determine if there are any missing values in the sample data.\n",
    "sample_data_df.isnull()"
   ]
  },
  {
   "cell_type": "code",
   "execution_count": 10,
   "id": "b7b9aa49",
   "metadata": {},
   "outputs": [
    {
     "data": {
      "text/plain": [
       "array(['N1', 'N2', 'N3', 'N4', 'N5', 'N6', 'N7', 'N8', 'N9', 'N10'],\n",
       "      dtype=object)"
      ]
     },
     "execution_count": 10,
     "metadata": {},
     "output_type": "execute_result"
    }
   ],
   "source": [
    "# Get the unique values of the type of sales.\n",
    "sample_data_df[\"STORECODE\"].unique()"
   ]
  },
  {
   "cell_type": "code",
   "execution_count": 53,
   "id": "3ca9e9a6",
   "metadata": {},
   "outputs": [
    {
     "data": {
      "text/plain": [
       "MONTH\n",
       "M1    420028.87\n",
       "M2    519810.33\n",
       "M3    485319.13\n",
       "Name: PRICE, dtype: float64"
      ]
     },
     "execution_count": 53,
     "metadata": {},
     "output_type": "execute_result"
    }
   ],
   "source": [
    "# Calculate the total sales amount made by each store over the entire three months\n",
    "total_sales_by_store = sample_data_df.groupby(['MONTH']).sum()['PRICE'] \n",
    "total_sales_by_store"
   ]
  },
  {
   "cell_type": "code",
   "execution_count": 41,
   "id": "47eb387e",
   "metadata": {},
   "outputs": [
    {
     "data": {
      "text/plain": [
       "Text(0.5, 1.0, 'Total Sales by Store')"
      ]
     },
     "execution_count": 41,
     "metadata": {},
     "output_type": "execute_result"
    },
    {
     "data": {
      "image/png": "[encoded data removed]",
      "text/plain": [
       "<Figure size 432x288 with 1 Axes>"
      ]
     },
     "metadata": {
      "needs_background": "light"
     },
     "output_type": "display_data"
    }
   ],
   "source": [
    "plt.plot(total_sales_by_store)\n",
    "plt.xlabel('MONTH')\n",
    "plt.ylabel('PRICE')\n",
    "plt.title('Total Sales by Store')"
   ]
  },
  {
   "cell_type": "code",
   "execution_count": 49,
   "id": "835dc104",
   "metadata": {
    "scrolled": true
   },
   "outputs": [
    {
     "data": {
      "text/plain": [
       "QTY\n",
       "0.5        54.500000\n",
       "1.0        63.094479\n",
       "2.0        29.577032\n",
       "3.0        29.382661\n",
       "4.0        22.283982\n",
       "5.0        18.541353\n",
       "6.0        19.775067\n",
       "7.0        18.991489\n",
       "8.0        48.051064\n",
       "9.0        18.615385\n",
       "10.0       19.012275\n",
       "11.0       13.492273\n",
       "12.0       11.021511\n",
       "13.0        5.764706\n",
       "14.0        2.600000\n",
       "15.0        7.631579\n",
       "16.0        4.964286\n",
       "17.0        5.333333\n",
       "18.0        6.432000\n",
       "19.0       26.000000\n",
       "20.0        6.300000\n",
       "21.0       10.000000\n",
       "22.0        4.846000\n",
       "24.0       10.905833\n",
       "25.0        7.375000\n",
       "27.0        9.500000\n",
       "28.0        1.000000\n",
       "30.0       10.150000\n",
       "32.0        1.000000\n",
       "36.0        8.545000\n",
       "48.0        3.860000\n",
       "50.0        5.553333\n",
       "60.0        3.290000\n",
       "72.0        4.796667\n",
       "80.0        1.000000\n",
       "89.0        1.800000\n",
       "96.0        5.000000\n",
       "100.0       1.754545\n",
       "144.0       5.000000\n",
       "192.0       1.000000\n",
       "1000.0      0.115217\n",
       "2000.0      0.098571\n",
       "3000.0      0.170000\n",
       "5000.0      0.000000\n",
       "12000.0     0.090000\n",
       "Name: PRICE, dtype: float64"
      ]
     },
     "execution_count": 49,
     "metadata": {},
     "output_type": "execute_result"
    }
   ],
   "source": [
    "# find the category of products that’s sold the most (qty) \n",
    "number_category_by_qty = sample_data_df.groupby(['QTY']).mean()['PRICE']\n",
    "number_category_by_qty"
   ]
  },
  {
   "cell_type": "code",
   "execution_count": 38,
   "id": "5feaa70e",
   "metadata": {},
   "outputs": [
    {
     "data": {
      "text/plain": [
       "GRP\n",
       "AFTER SHAVE LOTIONS              1.0\n",
       "AGARBATTI & DHOOPBATTI           6.0\n",
       "ALL AIR FRESHNERS(01/03)         8.0\n",
       "ALL IODISED SALT                 6.0\n",
       "ANTACIDS                         7.0\n",
       "                               ...  \n",
       "TOOTH POWDERS                    2.0\n",
       "TWIN BLADES                      3.0\n",
       "VANASPATI CONS PACK (8/94)    1000.0\n",
       "VERMICELLI & NOODLE             30.0\n",
       "WASHING POWDERS/LIQUIDS         48.0\n",
       "Name: QTY, Length: 80, dtype: float64"
      ]
     },
     "execution_count": 38,
     "metadata": {},
     "output_type": "execute_result"
    }
   ],
   "source": [
    "number_category_by_qty = sample_data_df.groupby(['GRP']).max()['QTY']\n",
    "number_category_by_qty"
   ]
  },
  {
   "cell_type": "code",
   "execution_count": 42,
   "id": "60bc93e5",
   "metadata": {},
   "outputs": [
    {
     "data": {
      "text/plain": [
       "Text(0.5, 1.0, 'Total Sales by Quantity')"
      ]
     },
     "execution_count": 42,
     "metadata": {},
     "output_type": "execute_result"
    },
    {
     "data": {
      "image/png": "[encoded data removed]",
      "text/plain": [
       "<Figure size 432x288 with 1 Axes>"
      ]
     },
     "metadata": {
      "needs_background": "light"
     },
     "output_type": "display_data"
    }
   ],
   "source": [
    "plt.plot(number_category_by_qty)\n",
    "plt.xlabel('GRP')\n",
    "plt.ylabel('QTY')\n",
    "plt.title('Total Sales by Quantity')"
   ]
  },
  {
   "cell_type": "code",
   "execution_count": 31,
   "id": "93bb7797",
   "metadata": {
    "scrolled": true
   },
   "outputs": [
    {
     "data": {
      "text/plain": [
       "DAY\n",
       "1     3150.0\n",
       "2     1130.0\n",
       "3      950.0\n",
       "4      870.0\n",
       "5     1025.0\n",
       "6     1075.0\n",
       "7      825.0\n",
       "8      950.0\n",
       "9      750.0\n",
       "10    1130.0\n",
       "11     675.0\n",
       "12     825.0\n",
       "13     865.0\n",
       "14    2020.0\n",
       "15     680.0\n",
       "16     540.0\n",
       "17     700.0\n",
       "18     988.0\n",
       "19    1140.0\n",
       "20     750.0\n",
       "21    1100.0\n",
       "22     995.0\n",
       "23     699.0\n",
       "24     430.0\n",
       "25     825.0\n",
       "26    2175.0\n",
       "27     995.0\n",
       "28    1140.0\n",
       "29     699.0\n",
       "30     900.0\n",
       "31    2175.0\n",
       "Name: PRICE, dtype: float64"
      ]
     },
     "execution_count": 31,
     "metadata": {},
     "output_type": "execute_result"
    }
   ],
   "source": [
    "# find the day across all three months where the total sales amount is the highest\n",
    "\n",
    "total_sales_by_day = sample_data_df.groupby(['DAY']).max()['PRICE']\n",
    "total_sales_by_day"
   ]
  },
  {
   "cell_type": "code",
   "execution_count": 40,
   "id": "92746592",
   "metadata": {},
   "outputs": [
    {
     "data": {
      "text/plain": [
       "Text(0.5, 1.0, 'Total Sales by Day')"
      ]
     },
     "execution_count": 40,
     "metadata": {},
     "output_type": "execute_result"
    },
    {
     "data": {
      "image/png": "[encoded data removed]",
      "text/plain": [
       "<Figure size 432x288 with 1 Axes>"
      ]
     },
     "metadata": {
      "needs_background": "light"
     },
     "output_type": "display_data"
    }
   ],
   "source": [
    "plt.plot(total_sales_by_day)\n",
    "plt.xlabel('DAY')\n",
    "plt.ylabel('price')\n",
    "plt.title('Total Sales by Day')"
   ]
  },
  {
   "cell_type": "code",
   "execution_count": 46,
   "id": "23dda971",
   "metadata": {},
   "outputs": [
    {
     "data": {
      "text/plain": [
       "MONTH\n",
       "M1    2175.0\n",
       "M2    3150.0\n",
       "M3    1249.0\n",
       "Name: PRICE, dtype: float64"
      ]
     },
     "execution_count": 46,
     "metadata": {},
     "output_type": "execute_result"
    }
   ],
   "source": [
    "total_sales_by_month = sample_data_df.groupby(['MONTH']).max()['PRICE']\n",
    "total_sales_by_month"
   ]
  }
 ],
 "metadata": {
  "kernelspec": {
   "display_name": "Python 3 (ipykernel)",
   "language": "python",
   "name": "python3"
  },
  "language_info": {
   "codemirror_mode": {
    "name": "ipython",
    "version": 3
   },
   "file_extension": ".py",
   "mimetype": "text/x-python",
   "name": "python",
   "nbconvert_exporter": "python",
   "pygments_lexer": "ipython3",
   "version": "3.7.11"
  }
 },
 "nbformat": 4,
 "nbformat_minor": 5
}
